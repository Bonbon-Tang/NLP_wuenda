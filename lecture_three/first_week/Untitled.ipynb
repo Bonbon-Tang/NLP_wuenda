{
 "cells": [
  {
   "cell_type": "code",
   "execution_count": 1,
   "metadata": {},
   "outputs": [
    {
     "name": "stdout",
     "output_type": "stream",
     "text": [
      "True\n",
      "False\n",
      "[0, 1, 2, 3] <class 'list'>\n"
     ]
    }
   ],
   "source": [
    "import numpy\n",
    "a_size = 4\n",
    "lines_index = [*range(a_size)]\n",
    "b = [i for i in range(a_size)]\n",
    "print(b == lines_index)\n",
    "print(b is lines_index)\n",
    "print(lines_index, type(lines_index))"
   ]
  },
  {
   "cell_type": "code",
   "execution_count": 2,
   "metadata": {},
   "outputs": [
    {
     "name": "stdout",
     "output_type": "stream",
     "text": [
      "Collecting qgrid\n",
      "  Downloading qgrid-1.3.1.tar.gz (889 kB)\n",
      "Requirement already satisfied: notebook>=4.0.0 in c:\\users\\baiyang01\\anaconda3\\lib\\site-packages (from qgrid) (6.0.3)\n",
      "Requirement already satisfied: pandas>=0.18.0 in c:\\users\\baiyang01\\anaconda3\\lib\\site-packages (from qgrid) (1.0.1)\n",
      "Requirement already satisfied: ipywidgets>=7.0.0 in c:\\users\\baiyang01\\anaconda3\\lib\\site-packages (from qgrid) (7.5.1)\n",
      "Requirement already satisfied: nbconvert in c:\\users\\baiyang01\\anaconda3\\lib\\site-packages (from notebook>=4.0.0->qgrid) (5.6.1)\n",
      "Requirement already satisfied: jupyter-client>=5.3.4 in c:\\users\\baiyang01\\anaconda3\\lib\\site-packages (from notebook>=4.0.0->qgrid) (5.3.4)\n",
      "Requirement already satisfied: nbformat in c:\\users\\baiyang01\\anaconda3\\lib\\site-packages (from notebook>=4.0.0->qgrid) (5.0.4)\n",
      "Requirement already satisfied: tornado>=5.0 in c:\\users\\baiyang01\\anaconda3\\lib\\site-packages (from notebook>=4.0.0->qgrid) (6.0.3)\n",
      "Requirement already satisfied: jupyter-core>=4.6.1 in c:\\users\\baiyang01\\anaconda3\\lib\\site-packages (from notebook>=4.0.0->qgrid) (4.6.1)\n",
      "Requirement already satisfied: terminado>=0.8.1 in c:\\users\\baiyang01\\anaconda3\\lib\\site-packages (from notebook>=4.0.0->qgrid) (0.8.3)\n",
      "Requirement already satisfied: pyzmq>=17 in c:\\users\\baiyang01\\anaconda3\\lib\\site-packages (from notebook>=4.0.0->qgrid) (18.1.1)\n",
      "Requirement already satisfied: prometheus-client in c:\\users\\baiyang01\\anaconda3\\lib\\site-packages (from notebook>=4.0.0->qgrid) (0.7.1)\n",
      "Requirement already satisfied: traitlets>=4.2.1 in c:\\users\\baiyang01\\anaconda3\\lib\\site-packages (from notebook>=4.0.0->qgrid) (4.3.3)\n",
      "Requirement already satisfied: jinja2 in c:\\users\\baiyang01\\anaconda3\\lib\\site-packages (from notebook>=4.0.0->qgrid) (2.11.1)\n",
      "Requirement already satisfied: ipython-genutils in c:\\users\\baiyang01\\anaconda3\\lib\\site-packages (from notebook>=4.0.0->qgrid) (0.2.0)\n",
      "Requirement already satisfied: ipykernel in c:\\users\\baiyang01\\anaconda3\\lib\\site-packages (from notebook>=4.0.0->qgrid) (5.1.4)\n",
      "Requirement already satisfied: Send2Trash in c:\\users\\baiyang01\\anaconda3\\lib\\site-packages (from notebook>=4.0.0->qgrid) (1.5.0)\n",
      "Requirement already satisfied: pytz>=2017.2 in c:\\users\\baiyang01\\anaconda3\\lib\\site-packages (from pandas>=0.18.0->qgrid) (2019.3)\n",
      "Requirement already satisfied: python-dateutil>=2.6.1 in c:\\users\\baiyang01\\anaconda3\\lib\\site-packages (from pandas>=0.18.0->qgrid) (2.8.1)\n",
      "Requirement already satisfied: numpy>=1.13.3 in c:\\users\\baiyang01\\anaconda3\\lib\\site-packages (from pandas>=0.18.0->qgrid) (1.18.1)\n",
      "Requirement already satisfied: ipython>=4.0.0; python_version >= \"3.3\" in c:\\users\\baiyang01\\anaconda3\\lib\\site-packages (from ipywidgets>=7.0.0->qgrid) (7.12.0)\n",
      "Requirement already satisfied: widgetsnbextension~=3.5.0 in c:\\users\\baiyang01\\anaconda3\\lib\\site-packages (from ipywidgets>=7.0.0->qgrid) (3.5.1)\n",
      "Requirement already satisfied: testpath in c:\\users\\baiyang01\\anaconda3\\lib\\site-packages (from nbconvert->notebook>=4.0.0->qgrid) (0.4.4)\n",
      "Requirement already satisfied: mistune<2,>=0.8.1 in c:\\users\\baiyang01\\anaconda3\\lib\\site-packages (from nbconvert->notebook>=4.0.0->qgrid) (0.8.4)\n",
      "Requirement already satisfied: entrypoints>=0.2.2 in c:\\users\\baiyang01\\anaconda3\\lib\\site-packages (from nbconvert->notebook>=4.0.0->qgrid) (0.3)\n",
      "Requirement already satisfied: bleach in c:\\users\\baiyang01\\anaconda3\\lib\\site-packages (from nbconvert->notebook>=4.0.0->qgrid) (3.1.0)\n",
      "Requirement already satisfied: pygments in c:\\users\\baiyang01\\anaconda3\\lib\\site-packages (from nbconvert->notebook>=4.0.0->qgrid) (2.5.2)\n",
      "Requirement already satisfied: pandocfilters>=1.4.1 in c:\\users\\baiyang01\\anaconda3\\lib\\site-packages (from nbconvert->notebook>=4.0.0->qgrid) (1.4.2)\n",
      "Requirement already satisfied: defusedxml in c:\\users\\baiyang01\\anaconda3\\lib\\site-packages (from nbconvert->notebook>=4.0.0->qgrid) (0.6.0)\n",
      "Requirement already satisfied: pywin32>=1.0; sys_platform == \"win32\" in c:\\users\\baiyang01\\anaconda3\\lib\\site-packages (from jupyter-client>=5.3.4->notebook>=4.0.0->qgrid) (227)\n",
      "Requirement already satisfied: jsonschema!=2.5.0,>=2.4 in c:\\users\\baiyang01\\anaconda3\\lib\\site-packages (from nbformat->notebook>=4.0.0->qgrid) (3.2.0)\n",
      "Requirement already satisfied: six in c:\\users\\baiyang01\\anaconda3\\lib\\site-packages (from traitlets>=4.2.1->notebook>=4.0.0->qgrid) (1.14.0)\n",
      "Requirement already satisfied: decorator in c:\\users\\baiyang01\\anaconda3\\lib\\site-packages (from traitlets>=4.2.1->notebook>=4.0.0->qgrid) (4.4.1)\n",
      "Requirement already satisfied: MarkupSafe>=0.23 in c:\\users\\baiyang01\\anaconda3\\lib\\site-packages (from jinja2->notebook>=4.0.0->qgrid) (1.1.1)\n",
      "Requirement already satisfied: colorama; sys_platform == \"win32\" in c:\\users\\baiyang01\\anaconda3\\lib\\site-packages (from ipython>=4.0.0; python_version >= \"3.3\"->ipywidgets>=7.0.0->qgrid) (0.4.3)\n",
      "Requirement already satisfied: backcall in c:\\users\\baiyang01\\anaconda3\\lib\\site-packages (from ipython>=4.0.0; python_version >= \"3.3\"->ipywidgets>=7.0.0->qgrid) (0.1.0)\n",
      "Requirement already satisfied: setuptools>=18.5 in c:\\users\\baiyang01\\anaconda3\\lib\\site-packages (from ipython>=4.0.0; python_version >= \"3.3\"->ipywidgets>=7.0.0->qgrid) (45.2.0.post20200210)\n",
      "Requirement already satisfied: jedi>=0.10 in c:\\users\\baiyang01\\anaconda3\\lib\\site-packages (from ipython>=4.0.0; python_version >= \"3.3\"->ipywidgets>=7.0.0->qgrid) (0.14.1)\n",
      "Requirement already satisfied: pickleshare in c:\\users\\baiyang01\\anaconda3\\lib\\site-packages (from ipython>=4.0.0; python_version >= \"3.3\"->ipywidgets>=7.0.0->qgrid) (0.7.5)\n",
      "Requirement already satisfied: prompt-toolkit!=3.0.0,!=3.0.1,<3.1.0,>=2.0.0 in c:\\users\\baiyang01\\anaconda3\\lib\\site-packages (from ipython>=4.0.0; python_version >= \"3.3\"->ipywidgets>=7.0.0->qgrid) (3.0.3)\n",
      "Requirement already satisfied: webencodings in c:\\users\\baiyang01\\anaconda3\\lib\\site-packages (from bleach->nbconvert->notebook>=4.0.0->qgrid) (0.5.1)\n",
      "Requirement already satisfied: pyrsistent>=0.14.0 in c:\\users\\baiyang01\\anaconda3\\lib\\site-packages (from jsonschema!=2.5.0,>=2.4->nbformat->notebook>=4.0.0->qgrid) (0.15.7)\n",
      "Requirement already satisfied: importlib-metadata; python_version < \"3.8\" in c:\\users\\baiyang01\\anaconda3\\lib\\site-packages (from jsonschema!=2.5.0,>=2.4->nbformat->notebook>=4.0.0->qgrid) (1.5.0)\n",
      "Requirement already satisfied: attrs>=17.4.0 in c:\\users\\baiyang01\\anaconda3\\lib\\site-packages (from jsonschema!=2.5.0,>=2.4->nbformat->notebook>=4.0.0->qgrid) (19.3.0)\n",
      "Requirement already satisfied: parso>=0.5.0 in c:\\users\\baiyang01\\anaconda3\\lib\\site-packages (from jedi>=0.10->ipython>=4.0.0; python_version >= \"3.3\"->ipywidgets>=7.0.0->qgrid) (0.5.2)\n",
      "Requirement already satisfied: wcwidth in c:\\users\\baiyang01\\anaconda3\\lib\\site-packages (from prompt-toolkit!=3.0.0,!=3.0.1,<3.1.0,>=2.0.0->ipython>=4.0.0; python_version >= \"3.3\"->ipywidgets>=7.0.0->qgrid) (0.1.8)\n",
      "Requirement already satisfied: zipp>=0.5 in c:\\users\\baiyang01\\anaconda3\\lib\\site-packages (from importlib-metadata; python_version < \"3.8\"->jsonschema!=2.5.0,>=2.4->nbformat->notebook>=4.0.0->qgrid) (2.2.0)\n",
      "Building wheels for collected packages: qgrid\n",
      "  Building wheel for qgrid (setup.py): started\n",
      "  Building wheel for qgrid (setup.py): finished with status 'done'\n",
      "  Created wheel for qgrid: filename=qgrid-1.3.1-py2.py3-none-any.whl size=1761262 sha256=5fdc733a062dc840846a9d7b36befc63f0c077ef4901f7d98c726a93893b61be\n",
      "  Stored in directory: c:\\users\\baiyang01\\appdata\\local\\pip\\cache\\wheels\\53\\87\\cb\\c63a58774627471976061afb5b8657b76d2268c1e76e980586\n",
      "Successfully built qgrid\n",
      "Installing collected packages: qgrid\n",
      "Successfully installed qgrid-1.3.1\n"
     ]
    },
    {
     "name": "stderr",
     "output_type": "stream",
     "text": [
      "Enabling notebook extension qgrid/extension...\n",
      "      - Validating: ok\n"
     ]
    }
   ],
   "source": [
    "!pip install qgrid\n",
    "!jupyter nbextension enable --py --sys-prefix qgrid"
   ]
  },
  {
   "cell_type": "code",
   "execution_count": 18,
   "metadata": {},
   "outputs": [],
   "source": [
    "import os\n",
    "import sys"
   ]
  },
  {
   "cell_type": "code",
   "execution_count": 14,
   "metadata": {},
   "outputs": [
    {
     "name": "stdout",
     "output_type": "stream",
     "text": [
      "# conda environments:\n",
      "#\n",
      "base                  *  C:\\Users\\baiyang01\\Anaconda3\n",
      "python27                 C:\\Users\\baiyang01\\Anaconda3\\envs\\python27\n",
      "study                    C:\\Users\\baiyang01\\Anaconda3\\envs\\study\n",
      "tensorbase               C:\\Users\\baiyang01\\Anaconda3\\envs\\tensorbase\n",
      "tensorflow2              C:\\Users\\baiyang01\\Anaconda3\\envs\\tensorflow2\n",
      "\n",
      "# conda environments:\n",
      "#\n",
      "base                  *  C:\\Users\\baiyang01\\Anaconda3\n",
      "python27                 C:\\Users\\baiyang01\\Anaconda3\\envs\\python27\n",
      "study                    C:\\Users\\baiyang01\\Anaconda3\\envs\\study\n",
      "tensorbase               C:\\Users\\baiyang01\\Anaconda3\\envs\\tensorbase\n",
      "tensorflow2              C:\\Users\\baiyang01\\Anaconda3\\envs\\tensorflow2\n",
      "\n"
     ]
    }
   ],
   "source": [
    "!conda env list\n",
    "!conda info -e"
   ]
  },
  {
   "cell_type": "code",
   "execution_count": null,
   "metadata": {},
   "outputs": [],
   "source": [
    "!pip install jupyter_contrib_nbextensions && jupyter contrib nbextension install --user"
   ]
  },
  {
   "cell_type": "code",
   "execution_count": 1,
   "metadata": {},
   "outputs": [
    {
     "name": "stdout",
     "output_type": "stream",
     "text": [
      "Requirement already satisfied: ipywidgets in c:\\users\\baiyang01\\anaconda3\\lib\\site-packages (7.5.1)\n",
      "Requirement already satisfied: widgetsnbextension~=3.5.0 in c:\\users\\baiyang01\\anaconda3\\lib\\site-packages (from ipywidgets) (3.5.1)\n",
      "Requirement already satisfied: nbformat>=4.2.0 in c:\\users\\baiyang01\\anaconda3\\lib\\site-packages (from ipywidgets) (5.0.4)\n",
      "Requirement already satisfied: ipython>=4.0.0; python_version >= \"3.3\" in c:\\users\\baiyang01\\anaconda3\\lib\\site-packages (from ipywidgets) (7.12.0)\n",
      "Requirement already satisfied: traitlets>=4.3.1 in c:\\users\\baiyang01\\anaconda3\\lib\\site-packages (from ipywidgets) (4.3.3)\n",
      "Requirement already satisfied: ipykernel>=4.5.1 in c:\\users\\baiyang01\\anaconda3\\lib\\site-packages (from ipywidgets) (5.1.4)\n",
      "Requirement already satisfied: notebook>=4.4.1 in c:\\users\\baiyang01\\anaconda3\\lib\\site-packages (from widgetsnbextension~=3.5.0->ipywidgets) (6.0.3)\n",
      "Requirement already satisfied: jupyter-core in c:\\users\\baiyang01\\anaconda3\\lib\\site-packages (from nbformat>=4.2.0->ipywidgets) (4.6.1)\n",
      "Requirement already satisfied: ipython-genutils in c:\\users\\baiyang01\\anaconda3\\lib\\site-packages (from nbformat>=4.2.0->ipywidgets) (0.2.0)\n",
      "Requirement already satisfied: jsonschema!=2.5.0,>=2.4 in c:\\users\\baiyang01\\anaconda3\\lib\\site-packages (from nbformat>=4.2.0->ipywidgets) (3.2.0)\n",
      "Requirement already satisfied: setuptools>=18.5 in c:\\users\\baiyang01\\anaconda3\\lib\\site-packages (from ipython>=4.0.0; python_version >= \"3.3\"->ipywidgets) (45.2.0.post20200210)\n",
      "Requirement already satisfied: prompt-toolkit!=3.0.0,!=3.0.1,<3.1.0,>=2.0.0 in c:\\users\\baiyang01\\anaconda3\\lib\\site-packages (from ipython>=4.0.0; python_version >= \"3.3\"->ipywidgets) (3.0.3)\n",
      "Requirement already satisfied: pygments in c:\\users\\baiyang01\\anaconda3\\lib\\site-packages (from ipython>=4.0.0; python_version >= \"3.3\"->ipywidgets) (2.5.2)\n",
      "Requirement already satisfied: backcall in c:\\users\\baiyang01\\anaconda3\\lib\\site-packages (from ipython>=4.0.0; python_version >= \"3.3\"->ipywidgets) (0.1.0)\n",
      "Requirement already satisfied: colorama; sys_platform == \"win32\" in c:\\users\\baiyang01\\anaconda3\\lib\\site-packages (from ipython>=4.0.0; python_version >= \"3.3\"->ipywidgets) (0.4.3)\n",
      "Requirement already satisfied: pickleshare in c:\\users\\baiyang01\\anaconda3\\lib\\site-packages (from ipython>=4.0.0; python_version >= \"3.3\"->ipywidgets) (0.7.5)\n",
      "Requirement already satisfied: decorator in c:\\users\\baiyang01\\anaconda3\\lib\\site-packages (from ipython>=4.0.0; python_version >= \"3.3\"->ipywidgets) (4.4.1)\n",
      "Requirement already satisfied: jedi>=0.10 in c:\\users\\baiyang01\\anaconda3\\lib\\site-packages (from ipython>=4.0.0; python_version >= \"3.3\"->ipywidgets) (0.14.1)\n",
      "Requirement already satisfied: six in c:\\users\\baiyang01\\anaconda3\\lib\\site-packages (from traitlets>=4.3.1->ipywidgets) (1.14.0)\n",
      "Requirement already satisfied: jupyter-client in c:\\users\\baiyang01\\anaconda3\\lib\\site-packages (from ipykernel>=4.5.1->ipywidgets) (5.3.4)\n",
      "Requirement already satisfied: tornado>=4.2 in c:\\users\\baiyang01\\anaconda3\\lib\\site-packages (from ipykernel>=4.5.1->ipywidgets) (6.0.3)\n",
      "Requirement already satisfied: jinja2 in c:\\users\\baiyang01\\anaconda3\\lib\\site-packages (from notebook>=4.4.1->widgetsnbextension~=3.5.0->ipywidgets) (2.11.1)\n",
      "Requirement already satisfied: Send2Trash in c:\\users\\baiyang01\\anaconda3\\lib\\site-packages (from notebook>=4.4.1->widgetsnbextension~=3.5.0->ipywidgets) (1.5.0)\n",
      "Requirement already satisfied: pyzmq>=17 in c:\\users\\baiyang01\\anaconda3\\lib\\site-packages (from notebook>=4.4.1->widgetsnbextension~=3.5.0->ipywidgets) (18.1.1)\n",
      "Requirement already satisfied: terminado>=0.8.1 in c:\\users\\baiyang01\\anaconda3\\lib\\site-packages (from notebook>=4.4.1->widgetsnbextension~=3.5.0->ipywidgets) (0.8.3)\n",
      "Requirement already satisfied: prometheus-client in c:\\users\\baiyang01\\anaconda3\\lib\\site-packages (from notebook>=4.4.1->widgetsnbextension~=3.5.0->ipywidgets) (0.7.1)\n",
      "Requirement already satisfied: nbconvert in c:\\users\\baiyang01\\anaconda3\\lib\\site-packages (from notebook>=4.4.1->widgetsnbextension~=3.5.0->ipywidgets) (5.6.1)\n",
      "Requirement already satisfied: pywin32>=1.0; sys_platform == \"win32\" in c:\\users\\baiyang01\\anaconda3\\lib\\site-packages (from jupyter-core->nbformat>=4.2.0->ipywidgets) (227)\n",
      "Requirement already satisfied: pyrsistent>=0.14.0 in c:\\users\\baiyang01\\anaconda3\\lib\\site-packages (from jsonschema!=2.5.0,>=2.4->nbformat>=4.2.0->ipywidgets) (0.15.7)\n",
      "Requirement already satisfied: importlib-metadata; python_version < \"3.8\" in c:\\users\\baiyang01\\anaconda3\\lib\\site-packages (from jsonschema!=2.5.0,>=2.4->nbformat>=4.2.0->ipywidgets) (1.5.0)\n",
      "Requirement already satisfied: attrs>=17.4.0 in c:\\users\\baiyang01\\anaconda3\\lib\\site-packages (from jsonschema!=2.5.0,>=2.4->nbformat>=4.2.0->ipywidgets) (19.3.0)\n",
      "Requirement already satisfied: wcwidth in c:\\users\\baiyang01\\anaconda3\\lib\\site-packages (from prompt-toolkit!=3.0.0,!=3.0.1,<3.1.0,>=2.0.0->ipython>=4.0.0; python_version >= \"3.3\"->ipywidgets) (0.1.8)\n",
      "Requirement already satisfied: parso>=0.5.0 in c:\\users\\baiyang01\\anaconda3\\lib\\site-packages (from jedi>=0.10->ipython>=4.0.0; python_version >= \"3.3\"->ipywidgets) (0.5.2)\n",
      "Requirement already satisfied: python-dateutil>=2.1 in c:\\users\\baiyang01\\anaconda3\\lib\\site-packages (from jupyter-client->ipykernel>=4.5.1->ipywidgets) (2.8.1)\n",
      "Requirement already satisfied: MarkupSafe>=0.23 in c:\\users\\baiyang01\\anaconda3\\lib\\site-packages (from jinja2->notebook>=4.4.1->widgetsnbextension~=3.5.0->ipywidgets) (1.1.1)\n",
      "Requirement already satisfied: testpath in c:\\users\\baiyang01\\anaconda3\\lib\\site-packages (from nbconvert->notebook>=4.4.1->widgetsnbextension~=3.5.0->ipywidgets) (0.4.4)\n",
      "Requirement already satisfied: defusedxml in c:\\users\\baiyang01\\anaconda3\\lib\\site-packages (from nbconvert->notebook>=4.4.1->widgetsnbextension~=3.5.0->ipywidgets) (0.6.0)\n",
      "Requirement already satisfied: mistune<2,>=0.8.1 in c:\\users\\baiyang01\\anaconda3\\lib\\site-packages (from nbconvert->notebook>=4.4.1->widgetsnbextension~=3.5.0->ipywidgets) (0.8.4)\n",
      "Requirement already satisfied: entrypoints>=0.2.2 in c:\\users\\baiyang01\\anaconda3\\lib\\site-packages (from nbconvert->notebook>=4.4.1->widgetsnbextension~=3.5.0->ipywidgets) (0.3)\n",
      "Requirement already satisfied: pandocfilters>=1.4.1 in c:\\users\\baiyang01\\anaconda3\\lib\\site-packages (from nbconvert->notebook>=4.4.1->widgetsnbextension~=3.5.0->ipywidgets) (1.4.2)\n",
      "Requirement already satisfied: bleach in c:\\users\\baiyang01\\anaconda3\\lib\\site-packages (from nbconvert->notebook>=4.4.1->widgetsnbextension~=3.5.0->ipywidgets) (3.1.0)\n",
      "Requirement already satisfied: zipp>=0.5 in c:\\users\\baiyang01\\anaconda3\\lib\\site-packages (from importlib-metadata; python_version < \"3.8\"->jsonschema!=2.5.0,>=2.4->nbformat>=4.2.0->ipywidgets) (2.2.0)\n",
      "Requirement already satisfied: webencodings in c:\\users\\baiyang01\\anaconda3\\lib\\site-packages (from bleach->nbconvert->notebook>=4.4.1->widgetsnbextension~=3.5.0->ipywidgets) (0.5.1)\n"
     ]
    },
    {
     "name": "stderr",
     "output_type": "stream",
     "text": [
      "Enabling notebook extension jupyter-js-widgets/extension...\n",
      "      - Validating: ok\n"
     ]
    }
   ],
   "source": [
    "#!pip install ipywidgets\n",
    "#!jupyter nbextension enable --py widgetsnbextension"
   ]
  },
  {
   "cell_type": "code",
   "execution_count": null,
   "metadata": {},
   "outputs": [],
   "source": []
  }
 ],
 "metadata": {
  "kernelspec": {
   "display_name": "Python 3",
   "language": "python",
   "name": "python3"
  },
  "language_info": {
   "codemirror_mode": {
    "name": "ipython",
    "version": 3
   },
   "file_extension": ".py",
   "mimetype": "text/x-python",
   "name": "python",
   "nbconvert_exporter": "python",
   "pygments_lexer": "ipython3",
   "version": "3.7.6"
  }
 },
 "nbformat": 4,
 "nbformat_minor": 2
}
